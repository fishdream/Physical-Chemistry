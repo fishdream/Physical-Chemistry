{
 "cells": [
  {
   "cell_type": "markdown",
   "metadata": {
    "collapsed": false
   },
   "source": [
    "# This is a test\n",
    "What you can do with Sage Notebok?\n",
    "That's see!\n",
    "\n",
    "## This is Markdown\n",
    "\n",
    "You can write math equations like\n",
    "$$E=mc^2$$\n",
    "\n",
    "*   A list item with a blockquote:\n",
    "\n",
    "    > This is a blockquote\n",
    "    > inside a list item.\n",
    "    \n",
    "\n",
    "1.  Bird\n",
    "1.  McHale\n",
    "1.  Parish\n"
   ]
  },
  {
   "cell_type": "code",
   "execution_count": 1,
   "metadata": {
    "collapsed": false
   },
   "outputs": [
    {
     "data": {
      "text/plain": [
       "2"
      ]
     },
     "execution_count": 1,
     "metadata": {},
     "output_type": "execute_result"
    }
   ],
   "source": [
    "1+1"
   ]
  },
  {
   "cell_type": "code",
   "execution_count": null,
   "metadata": {
    "collapsed": true
   },
   "outputs": [],
   "source": []
  }
 ],
 "metadata": {
  "kernelspec": {
   "display_name": "Python 2 (SageMath)",
   "language": "python",
   "name": "python2"
  },
  "language_info": {
   "codemirror_mode": {
    "name": "ipython",
    "version": 2
   },
   "file_extension": ".py",
   "mimetype": "text/x-python",
   "name": "python",
   "nbconvert_exporter": "python",
   "pygments_lexer": "ipython2",
   "version": "2.7.10"
  },
  "name": "2016-03-21-114234 Test.ipynb"
 },
 "nbformat": 4,
 "nbformat_minor": 0
}

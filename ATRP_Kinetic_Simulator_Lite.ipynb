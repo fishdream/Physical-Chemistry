{
 "cells": [
  {
   "cell_type": "markdown",
   "metadata": {},
   "source": [
    "# ATRP Kinetic Simulator Lite"
   ]
  },
  {
   "cell_type": "markdown",
   "metadata": {},
   "source": [
    "## About this program\n",
    "\n",
    "This is a lite version of ATRP and conventional radical polymerization kinetic simulator. You can select the type of polymerization you want to simulate. The types of polymerizations supported are conventional radical polymerization, normal ATRP, AGET ATRP, ARGET ATRP, eATRP, ATRP by continuous feeding of activators, and ICAR ATRP. You need to input the reaction time, the initial concentrations of reagents, and the rate coefficients of all reactions involved. The results include the concentration changes of all species with time, the monomer conversion vs. time, the first-order kinetic plot of monomer conversion vs. time. All concentration and monomer conversion information could be exported to a CSV file. This simulator does not distinguish polymers with different chain lengths. Thus, no molecular weight distribution information is provided. This is why the simulator is called a lite version.\n",
    "\n",
    "For more information, please visit [https://wangyu16.github.io/macroarchilab/simulation/ATRP-kinetic-lite/](https://wangyu16.github.io/macroarchilab/simulation/ATRP-kinetic-lite/).\n",
    "\n",
    "To run this program online, please visit [https://mybinder.org/v2/gh/wangyu16/PolymerScienceEducation/master?filepath=ATRP_Kinetic_Simulator_Lite.ipynb](https://mybinder.org/v2/gh/wangyu16/PolymerScienceEducation/master?filepath=ATRP_Kinetic_Simulator_Lite.ipynb). \n",
    "\n",
    "To download this program, please visit [https://github.com/wangyu16/PolymerScienceEducation](https://github.com/wangyu16/PolymerScienceEducation)."
   ]
  },
  {
   "cell_type": "code",
   "execution_count": 78,
   "metadata": {},
   "outputs": [],
   "source": [
    "from chempy import ReactionSystem, Substance\n",
    "from chempy.kinetics.ode import get_odesys\n",
    "from collections import defaultdict\n",
    "import numpy as np\n",
    "import matplotlib.pyplot as plt\n",
    "from ipywidgets import interact\n",
    "import datetime\n",
    "import csv"
   ]
  },
  {
   "cell_type": "code",
   "execution_count": 79,
   "metadata": {},
   "outputs": [],
   "source": [
    "# Please choose the type of polymerization you want to simulate.\n",
    "# Set the value of Poly_type as:\n",
    "# 'conven' for conventional polymerization;\n",
    "# 'normal' or any other value for normal ATRP;\n",
    "# 'arget' for ARGET and AGET;\n",
    "# 'eatrp' for electrochemical ATRP;\n",
    "# 'cfa' for ATRP by continuous feeding of activators;\n",
    "# 'icar' for ICAR ATRP.\n",
    "\n",
    "Poly_type = 'conven'"
   ]
  },
  {
   "cell_type": "code",
   "execution_count": 80,
   "metadata": {},
   "outputs": [
    {
     "data": {
      "text/html": [
       "<table class=\"chempy_ReactionSystem chempy_1998020569968\"><tr><th style=\"text-align:center;\" colspan=\"5\"></th></tr><tr class=\"chempy_1998020569968_0\"><td style=\"text-align:right;\"><span class=\"chempy_AIBN\" style=\"background-color:#ffb6c1; border: 1px solid #c71585; border-radius: 5pt; padding: 0pt 3pt 0pt 3pt;\">AIBN</span></td><td style=\"text-align:center;\">&rarr;</td><td style=\"text-align:left;\"><span class=\"chempy_AIBNR\" style=\"border-radius: 5pt; padding: 0pt 3pt 0pt 3pt;\">AIBNR</span></td><td style=\"text-align:left;\">&nbsp;10<sup>-6</sup></td></tr>\n",
       "\n",
       "<tr class=\"chempy_1998020569968_1\"><td style=\"text-align:right;\"><span class=\"chempy_AIBNR\" style=\"border-radius: 5pt; padding: 0pt 3pt 0pt 3pt;\">AIBNR</span> + <span class=\"chempy_M\" style=\"background-color:#ffb6c1; border: 1px solid #c71585; border-radius: 5pt; padding: 0pt 3pt 0pt 3pt;\">M</span></td><td style=\"text-align:center;\">&rarr;</td><td style=\"text-align:left;\"><span class=\"chempy_AIBNRPn\" style=\"border-radius: 5pt; padding: 0pt 3pt 0pt 3pt;\">AIBNRPn</span></td><td style=\"text-align:left;\">&nbsp;1300</td></tr>\n",
       "\n",
       "<tr class=\"chempy_1998020569968_2\"><td style=\"text-align:right;\"><span class=\"chempy_AIBNRPn\" style=\"border-radius: 5pt; padding: 0pt 3pt 0pt 3pt;\">AIBNRPn</span> + <span class=\"chempy_M\" style=\"background-color:#ffb6c1; border: 1px solid #c71585; border-radius: 5pt; padding: 0pt 3pt 0pt 3pt;\">M</span></td><td style=\"text-align:center;\">&rarr;</td><td style=\"text-align:left;\"><span class=\"chempy_AIBNRPn\" style=\"border-radius: 5pt; padding: 0pt 3pt 0pt 3pt;\">AIBNRPn</span></td><td style=\"text-align:left;\">&nbsp;1300</td></tr>\n",
       "\n",
       "<tr class=\"chempy_1998020569968_3\"><td style=\"text-align:right;\">2 <span class=\"chempy_AIBNR\" style=\"border-radius: 5pt; padding: 0pt 3pt 0pt 3pt;\">AIBNR</span></td><td style=\"text-align:center;\">&rarr;</td><td style=\"text-align:left;\"><span class=\"chempy_D\" style=\"background-color:#90ee90; border: 1px solid #008000; border-radius: 5pt; padding: 0pt 3pt 0pt 3pt;\">D</span></td><td style=\"text-align:left;\">&nbsp;10<sup>9</sup></td></tr>\n",
       "\n",
       "<tr class=\"chempy_1998020569968_4\"><td style=\"text-align:right;\"><span class=\"chempy_AIBNR\" style=\"border-radius: 5pt; padding: 0pt 3pt 0pt 3pt;\">AIBNR</span> + <span class=\"chempy_AIBNRPn\" style=\"border-radius: 5pt; padding: 0pt 3pt 0pt 3pt;\">AIBNRPn</span></td><td style=\"text-align:center;\">&rarr;</td><td style=\"text-align:left;\"><span class=\"chempy_DPn\" style=\"background-color:#90ee90; border: 1px solid #008000; border-radius: 5pt; padding: 0pt 3pt 0pt 3pt;\">DPn</span></td><td style=\"text-align:left;\">&nbsp;10<sup>9</sup></td></tr>\n",
       "\n",
       "<tr class=\"chempy_1998020569968_5\"><td style=\"text-align:right;\">2 <span class=\"chempy_AIBNRPn\" style=\"border-radius: 5pt; padding: 0pt 3pt 0pt 3pt;\">AIBNRPn</span></td><td style=\"text-align:center;\">&rarr;</td><td style=\"text-align:left;\"><span class=\"chempy_DPn\" style=\"background-color:#90ee90; border: 1px solid #008000; border-radius: 5pt; padding: 0pt 3pt 0pt 3pt;\">DPn</span></td><td style=\"text-align:left;\">&nbsp;5&sdot;10<sup>7</sup></td></tr></table><script type=\"text/javascript\">\n",
       "var cls_names_substances = [\"chempy_AIBN\", \"chempy_AIBNR\", \"chempy_AIBNRPn\", \"chempy_D\", \"chempy_DPn\", \"chempy_M\"];\n",
       "var substance_row_cls_irrel = {\"chempy_AIBN\": [\"chempy_1998020569968_1\", \"chempy_1998020569968_2\", \"chempy_1998020569968_3\", \"chempy_1998020569968_4\", \"chempy_1998020569968_5\"], \"chempy_AIBNR\": [\"chempy_1998020569968_2\", \"chempy_1998020569968_5\"], \"chempy_AIBNRPn\": [\"chempy_1998020569968_0\", \"chempy_1998020569968_3\"], \"chempy_D\": [\"chempy_1998020569968_0\", \"chempy_1998020569968_1\", \"chempy_1998020569968_2\", \"chempy_1998020569968_4\", \"chempy_1998020569968_5\"], \"chempy_DPn\": [\"chempy_1998020569968_0\", \"chempy_1998020569968_1\", \"chempy_1998020569968_2\", \"chempy_1998020569968_3\"], \"chempy_M\": [\"chempy_1998020569968_0\", \"chempy_1998020569968_3\", \"chempy_1998020569968_4\", \"chempy_1998020569968_5\"]};\n",
       "var elms = {};\n",
       "var n = {}, nsubstances = cls_names_substances.length;\n",
       "var nirrel = {};\n",
       "function changeColor(classname, color) {\n",
       "    var curN = n[classname];\n",
       "    for(var i = 0; i < curN; i++) {\n",
       "        elms[classname][i].style.backgroundColor = color;\n",
       "    }\n",
       "}\n",
       "function toggleVisibility(classname_substance) {\n",
       "    var curN = nirrel[classname_substance];\n",
       "    for (var i=0; i<curN; i++) {\n",
       "        var objs = document.getElementsByClassName(substance_row_cls_irrel[classname_substance][i]);\n",
       "        for (var j=0; j<objs.length; ++j){\n",
       "            objs[j].style.display = objs[j].style.display == \"none\" ? \"table-row\" : \"none\";\n",
       "        }\n",
       "    }\n",
       "}\n",
       "function resetTab(tab){\n",
       "    tab.style.border = \"0px\";\n",
       "    var rows = tab.getElementsByTagName('tr');\n",
       "    [].forEach.call(rows, function(row){\n",
       "        row.style.display = \"table-row\";\n",
       "    });\n",
       "    tab.getElementsByTagName('th')[0].innerHTML = tab.ori_header +\n",
       "        \"<br>(click on species to show a subset of reactions)\";\n",
       "};\n",
       "\n",
       "for(var k = 0; k < nsubstances; k++) {\n",
       "    var curClass = cls_names_substances[k];\n",
       "    var curIrrel = substance_row_cls_irrel[k];\n",
       "    elms[curClass] = document.getElementsByClassName(curClass);\n",
       "    n[curClass] = elms[curClass].length;\n",
       "    nirrel[curClass] = substance_row_cls_irrel[curClass].length;\n",
       "    var curN = n[curClass];\n",
       "    for(var i = 0; i < curN; i++) {\n",
       "        elms[curClass][i].onmouseover = function() {\n",
       "            changeColor(this.className, \"LightBlue\");\n",
       "        };\n",
       "        elms[curClass][i].onmouseout = function() {\n",
       "            changeColor(this.className, \"inherit\");\n",
       "        };\n",
       "        elms[curClass][i].onclick = function() {\n",
       "            var tab = this.closest(\"table\");\n",
       "            resetTab(tab);\n",
       "            tab.style.border = \"1px dashed #000000\";\n",
       "            toggleVisibility(this.className);\n",
       "            tab.getElementsByTagName('th')[0].innerHTML = tab.ori_header +\n",
       "                 \"<br>Only showing reactions involving: \" + this.innerHTML +\n",
       "                 \" (double-click to reset)\";\n",
       "        };\n",
       "    }\n",
       "};\n",
       "var chempy_tabs = document.querySelectorAll('table.chempy_1998020569968');\n",
       "[].forEach.call(chempy_tabs, function(tab){\n",
       "    tab.ori_header = tab.getElementsByTagName('th')[0].innerHTML;\n",
       "    tab.ondblclick = function(){\n",
       "        resetTab(this);\n",
       "        this.scrollIntoView();\n",
       "    };\n",
       "});\n",
       "[].forEach.call(chempy_tabs, function(tab){\n",
       "    resetTab(tab);\n",
       "});\n",
       "</script>"
      ],
      "text/plain": [
       "<chempy.reactionsystem.ReactionSystem at 0x1d1334e6b70>"
      ]
     },
     "execution_count": 80,
     "metadata": {},
     "output_type": "execute_result"
    }
   ],
   "source": [
    "#################    \n",
    "# Reaction time #\n",
    "#################    \n",
    "# Set reaction time limit in seconds. \n",
    "\n",
    "react_time = 28800\n",
    "   \n",
    "#########################\n",
    "# Monomer concentration #\n",
    "#########################\n",
    "# First set the initial concentration of monomer. Dead chains, D and DPn, should be 0 at the beginning. \n",
    "\n",
    "c0 = defaultdict(float, {'M': 5, 'D': 0, 'DPn': 0})\n",
    "\n",
    "#########################################################################################################################\n",
    "# In the following part, always remember to set proper rate coefficients for the reactions involved in your simulation. #\n",
    "#########################################################################################################################\n",
    "\n",
    "# Initiate the reaction system with null value. \n",
    "\n",
    "rsys = ReactionSystem.from_string(\"\"\"\n",
    "    \"\"\", substance_factory=Substance)\n",
    "\n",
    "#########################\n",
    "# Conventional and ICAR #\n",
    "#########################\n",
    "# If you are going to simulate conventional radical polymerization or ICAR ATRP, \n",
    "# the following set of reactions will be added. \n",
    "# Set the initial concentration of AIBN. AIBNR and AIBNRPn should be 0 at the beginning.\n",
    "\n",
    "if Poly_type is 'conven' or Poly_type is 'icar':\n",
    "    rsys = rsys + ReactionSystem.from_string(\"\"\"\n",
    "        AIBN -> AIBNR; 1e-6   \n",
    "        AIBNR + M -> AIBNRPn; 1.3e3\n",
    "        AIBNRPn + M -> AIBNRPn; 1.3e3    \n",
    "        AIBNR + AIBNR -> D; 1e9\n",
    "        AIBNRPn + AIBNR -> DPn; 1e9\n",
    "        AIBNRPn + AIBNRPn -> DPn; 5e7\n",
    "        \"\"\", substance_factory=Substance)\n",
    "    c0.update({'AIBN': 0.005, 'AIBNR': 0, 'AIBNRPn':0})\n",
    "\n",
    "\n",
    "#####################    \n",
    "# All kinds of ATRP #\n",
    "#####################\n",
    "# If you are going to simulate any type of ATRP, the following set of reactions will be added. \n",
    "# Set the initial concentrations of RX, \n",
    "# CuI and CuII. Other concentrations should be 0.      \n",
    "if Poly_type is not 'conven':\n",
    "    rsys = rsys + ReactionSystem.from_string(\"\"\"\n",
    "        CuI + RX -> CuII + R; 1     \n",
    "        CuII + R -> CuI + RX; 1e6\n",
    "        CuI + RPnX -> CuII + RPn; 1\n",
    "        CuII + RPn -> CuI + RPnX; 1e6     \n",
    "        R + M -> RPn; 1.3e3\n",
    "        RPn + M -> RPn; 1.3e3      \n",
    "        R + R -> D; 1e9\n",
    "        RPn + R -> DPn; 1e9\n",
    "        RPn + RPn -> DPn; 5e7\n",
    "        \"\"\", substance_factory=Substance)\n",
    "    c0.update({'CuI': 0.025, 'RX': 0.05, 'CuII': 0.0001, 'R': 0, 'RPnX':0, 'RPn': 0})\n",
    "\n",
    "##################   \n",
    "# AGET and ARGET #\n",
    "##################\n",
    "# If you are going to simulate AGET or ARGET, the following set of reactions will be added. \n",
    "# set the initial concentration of the reducing agent. \n",
    "# ReducX should be 0.\n",
    "\n",
    "if Poly_type is 'arget':\n",
    "    rsys = rsys + ReactionSystem.from_string(\"\"\"\n",
    "        Reduc + CuII -> ReducX + CuI; 1e-3\n",
    "        \"\"\", substance_factory=Substance)\n",
    "    c0.update({'Reduc': 0.005, 'ReducX':0})\n",
    "    \n",
    "#########    \n",
    "# eATRP #\n",
    "#########\n",
    "# If you are going to simulate eATRP, the following set of reactions will be added. \n",
    "# set the initial concentration of the electrons as a large number, e.g. > 200 times of RX, \n",
    "# which will remain nearly constant.\n",
    "# Adjust the rate coefficient to change the polymerization rate. \n",
    "\n",
    "if Poly_type is 'eatrp':\n",
    "    rsys = rsys + ReactionSystem.from_string(\"\"\"\n",
    "        e + CuII -> CuI; 1e-8\n",
    "        \"\"\", substance_factory=Substance)\n",
    "    c0.update({'Reduc': 10, 'ReducX':0})\n",
    "\n",
    "\n",
    "######################\n",
    "# Continuous feeding #\n",
    "######################\n",
    "# If you are going to simulate ATRP by continuous feeding of activators, the following set of reactions will be added. \n",
    "# Set the initial concentration of CuIsour as any large number, e.g. > 200 times of RX, which will remain nearly constant. \n",
    "# Adjust the rate coefficient to minic different feeding rate. \n",
    "\n",
    "if Poly_type is 'cfa':\n",
    "    rsys = rsys + ReactionSystem.from_string(\"\"\"\n",
    "        CuIsour -> CuI; 1.4e-8\n",
    "        \"\"\", substance_factory=Substance)\n",
    "    c0.update({'CuIsour': 10})\n",
    "\n",
    "########    \n",
    "# ICAR #\n",
    "########\n",
    "# If you are going to simulate ICAR ATRP, the following set of reactions will be added. \n",
    "# Initialize the concentrations of AIBNRX and AIBNRPnX as 0. \n",
    "\n",
    "if Poly_type is 'icar':     \n",
    "    rsys = rsys + ReactionSystem.from_string(\"\"\"\n",
    "        AIBNRPn + R -> DPn; 1e9\n",
    "        AIBNRPn + RPn -> DPn; 5e7    \n",
    "        AIBNR + R -> D; 1e9\n",
    "        AIBNR + RPn -> DPn; 1e9\n",
    "        CuI + AIBNRX -> CuII + AIBNR; 1\n",
    "        AIBNR + CuII -> AIBNRX + CuI; 1e6\n",
    "        AIBNRPnX + CuI -> CuII + AIBNRPn; 1\n",
    "        AIBNRPn + CuII -> CuI + AIBNRPnX; 1e6\n",
    "        \"\"\", substance_factory=Substance)  \n",
    "    c0.update({'AIBNRX': 0, 'AIBNRPnX': 0})    \n",
    "\n",
    "rsys\n",
    "\n",
    "# After execute the the cell, double check the output rate coefficients. "
   ]
  },
  {
   "cell_type": "code",
   "execution_count": 81,
   "metadata": {},
   "outputs": [
    {
     "data": {
      "text/plain": [
       "[('AIBN', y_0, -1.0e-6*y_0),\n",
       " ('AIBNR',\n",
       "  y_1,\n",
       "  1.0e-6*y_0 - 2000000000.0*y_1**2 - 1000000000.0*y_1*y_2 - 1300.0*y_1*y_5),\n",
       " ('AIBNRPn', y_2, -1000000000.0*y_1*y_2 + 1300.0*y_1*y_5 - 100000000.0*y_2**2),\n",
       " ('D', y_3, 1000000000.0*y_1**2),\n",
       " ('DPn', y_4, 1000000000.0*y_1*y_2 + 50000000.0*y_2**2),\n",
       " ('M', y_5, -1300.0*y_1*y_5 - 1300.0*y_2*y_5)]"
      ]
     },
     "execution_count": 81,
     "metadata": {},
     "output_type": "execute_result"
    }
   ],
   "source": [
    "# Intigrate the differential equations. \n",
    "\n",
    "odesys, extra = get_odesys(rsys)\n",
    "tout = sorted(np.concatenate((np.linspace(0, react_time), np.logspace(0, np.floor(np.log10(react_time))))))\n",
    "result = odesys.integrate(tout, c0, atol=1e-12, rtol=1e-14)\n",
    "kineticeq = list(zip(odesys.names, odesys.dep, odesys.exprs))\n",
    "kineticeq\n",
    "\n",
    "# Show the differential equations."
   ]
  },
  {
   "cell_type": "code",
   "execution_count": 82,
   "metadata": {},
   "outputs": [
    {
     "data": {
      "image/png": "[encoded data removed]",
      "text/plain": [
       "<Figure size 864x360 with 2 Axes>"
      ]
     },
     "metadata": {
      "needs_background": "light"
     },
     "output_type": "display_data"
    }
   ],
   "source": [
    "fig, axes = plt.subplots(1, 2, figsize=(12, 5))\n",
    "for ax in axes:\n",
    "     _ = result.plot(names=[k for k in rsys.substances if k != 'CuIsour'and k != 'M' and k!= 'e'], ax=ax)\n",
    "     _ = ax.legend(loc='best', prop={'size': 9})\n",
    "     _ = ax.set_xlabel('Time (s)')\n",
    "     _ = ax.set_ylabel('Concentration')\n",
    "_ = axes[1].set_ylim([1e-10, 1e1])\n",
    "_ = axes[1].set_xscale('log')\n",
    "_ = axes[1].set_yscale('log')\n",
    "_ = fig.tight_layout()\n",
    "\n",
    "# Plot the concentrations of all species vs time \n",
    "# except those of monomer, CuI source in continuous feeding and electrons in eATRP. "
   ]
  },
  {
   "cell_type": "code",
   "execution_count": 83,
   "metadata": {
    "scrolled": true
   },
   "outputs": [],
   "source": [
    "# Get monomer concentration and calculate conversion.\n",
    "\n",
    "x=list(rsys.substances.keys()).index('M')\n",
    "ConcM=result[1][:,x]\n",
    "ConvM =list((ConcM[0]-ConcM)/ConcM[0])\n",
    "LnM = list(np.log(ConcM[0]/ConcM))\n",
    "Monomer = [list(result[0]),ConcM,ConvM,LnM]"
   ]
  },
  {
   "cell_type": "code",
   "execution_count": 84,
   "metadata": {},
   "outputs": [
    {
     "data": {
      "image/png": "[encoded data removed]",
      "text/plain": [
       "<Figure size 864x360 with 2 Axes>"
      ]
     },
     "metadata": {
      "needs_background": "light"
     },
     "output_type": "display_data"
    }
   ],
   "source": [
    "# Plot monomer conversion vs. time and first order kinetic plot. \n",
    "\n",
    "fig, axes = plt.subplots(1, 2, figsize=(12, 5))\n",
    "i=2\n",
    "for ax in axes:\n",
    "    _ = ax.plot(Monomer[0], Monomer[i])\n",
    "    _ = ax.grid()\n",
    "    i=i+1\n",
    "_ = axes[0].set(xlabel='time (s)', ylabel='Conversion')\n",
    "_ = axes[1].set(xlabel='time (s)', ylabel='Ln([M]0/[M])')\n",
    "_ = fig.tight_layout()"
   ]
  },
  {
   "cell_type": "code",
   "execution_count": 85,
   "metadata": {},
   "outputs": [],
   "source": [
    "# Export the result to a CSV file.\n",
    "# The CSV file is saved in the same folder as this ipynb file. \n",
    "\n",
    "now = datetime.datetime.now()\n",
    "filename = str(now.strftime(\"%Y-%m-%d_%Hh%Mm%Ss\")) + '_ATRP_Simulation_Lite_' + str(Poly_type) + '.csv'\n",
    "\n",
    "with open(filename, 'w', newline='') as f:\n",
    "    thewriter = csv.writer(f)\n",
    "    thewriter.writerow(['time']+[k for k in rsys.substances])\n",
    "    i=0\n",
    "    for concen in result[1]:\n",
    "        thewriter.writerow([result[0][i]]+[k for k in concen])\n",
    "        i+=1"
   ]
  },
  {
   "cell_type": "code",
   "execution_count": null,
   "metadata": {},
   "outputs": [],
   "source": []
  }
 ],
 "metadata": {
  "kernelspec": {
   "display_name": "Python 3",
   "language": "python",
   "name": "python3"
  },
  "language_info": {
   "codemirror_mode": {
    "name": "ipython",
    "version": 3
   },
   "file_extension": ".py",
   "mimetype": "text/x-python",
   "name": "python",
   "nbconvert_exporter": "python",
   "pygments_lexer": "ipython3",
   "version": "3.7.3"
  }
 },
 "nbformat": 4,
 "nbformat_minor": 2
}

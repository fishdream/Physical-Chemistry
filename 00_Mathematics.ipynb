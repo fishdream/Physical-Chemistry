{
 "metadata": {
  "name": "",
  "signature": "sha256:6e95ad4e4980abe687c4b0081a2b9f29cf06cb843dd7d6330be8dd568ba6872e"
 },
 "nbformat": 3,
 "nbformat_minor": 0,
 "worksheets": []
}